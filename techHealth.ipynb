{
 "cells": [
  {
   "cell_type": "code",
   "execution_count": 21,
   "id": "45cde861",
   "metadata": {},
   "outputs": [],
   "source": [
    "#libraries Initialization\n",
    "import numpy as np\n",
    "import pandas as pd\n",
    "import math\n",
    "import scipy as sp \n",
    "\n"
   ]
  },
  {
   "cell_type": "markdown",
   "id": "d3bc9168",
   "metadata": {},
   "source": [
    "PART 1: DATA ARCHITECTURE ANALYSIS"
   ]
  },
  {
   "cell_type": "code",
   "execution_count": null,
   "id": "5d0810b5",
   "metadata": {},
   "outputs": [],
   "source": [
    "#data Loading and converting data values into numpy array\n",
    "\n",
    "# I initially used Pandas here because there are both numeric and string values but numpy.isnan is valid for numeric only\n",
    "# therefore, I calculated the missing values based on pandas data frame \n",
    "\n",
    "dataMatrix = pd.read_csv(\"patient_records.csv\")     #Data is stored in pandas DataFrame\n",
    "Datadimension = dataMatrix.shape\n",
    "records, attributes = Datadimension\n",
    "missingvalues = dataMatrix.isna().sum().sum()   #Used Pandas dataFrame to calculate all the missing values {NAN}\n",
    "dataSparsity = missingvalues/(records*attributes)    #Sparsity calculation \n",
    "dataDensity = 1-dataSparsity                         #Density Calculation\n",
    "\n",
    "attributesTypes = {\n",
    "    \"patient_id\": \"Nominal (Identifier)\",\n",
    "    \"age\": \"Numeric - Ratio (Continuous)\",\n",
    "    \"gender\": \"Nominal (Categorical)\",\n",
    "    \"bmi\": \"Numeric - Ratio (Continuous)\",\n",
    "    \"blood_pressure_systolic\": \"Numeric - Interval (Continuous)\",\n",
    "    \"blood_pressure_diastolic\": \"Numeric - Interval (Continuous)\",\n",
    "    \"cholesterol_level\": \"Numeric - Ratio (Continuous)\",\n",
    "    \"diabetes_type\": \"Ordinal (Discrete)\",\n",
    "    \"heart_disease\": \"Binary\",\n",
    "    \"annual_income\": \"Numeric - Ratio (Continuous, skewed)\",\n",
    "    \"exercise_hours_weekly\": \"Numeric - Ratio (Continuous)\",\n",
    "    \"smoking_status\": \"Nominal (Categorical)\",\n",
    "    \"family_history\": \"Binary\",\n",
    "    \"medication_count\": \"Numeric - Ratio (Discrete)\"\n",
    "\n",
    "}\n",
    "\n",
    "report = pd.DataFrame({\n",
    "    \"Attribute\": dataMatrix.columns,\n",
    "    \"Type\": [attributesTypes[col] for col in dataMatrix.columns],\n",
    "    \"Missing_Values\": dataMatrix.isna().sum().values,\n",
    "    \"Unique_Values\": dataMatrix.nunique().values,\n",
    "    \"Min\": dataMatrix.min(numeric_only=True).reindex(dataMatrix.columns).values,\n",
    "    \"Max\": dataMatrix.max(numeric_only=True).reindex(dataMatrix.columns).values,\n",
    "    \"Mean\": dataMatrix.mean(numeric_only=True).reindex(dataMatrix.columns).values,\n",
    "    \"StdDev\": dataMatrix.std(numeric_only=True).reindex(dataMatrix.columns).values\n",
    "})\n",
    "\n",
    "dataMatrix = dataMatrix.values                      # Data stored as numpy data Matrix\n",
    "\n",
    "print(\"----------------- <ATTRIBUTES> -------------------------------\\n\");\n",
    "\n",
    "\n",
    "\n",
    "for i, typ in attributesTypes.items():\n",
    "    print(f\"- {i}: {typ}\")\n",
    "\n",
    "print(\"\\n\\nDimensions: \",Datadimension,\"\\nSparsity: \",dataSparsity, \"\\nDensity: \",dataDensity)\n",
    "pd.set_option(\"display.max_columns\", None)\n",
    "print(\"\\n--- < Data Quality Report > ---\\n\")\n",
    "print(report)\n",
    "\n",
    "\n",
    "# I saved the generated report as a csv file \n",
    "report.to_csv(\"datareport.csv\", index=False)\n",
    "print(\"\\nData Quality Report saved as 'datareport.csv'\")\n",
    "\n",
    "\n",
    "\n"
   ]
  },
  {
   "cell_type": "markdown",
   "id": "1b6a01fd",
   "metadata": {},
   "source": []
  },
  {
   "cell_type": "code",
   "execution_count": null,
   "id": "0772d80f",
   "metadata": {},
   "outputs": [],
   "source": []
  }
 ],
 "metadata": {
  "kernelspec": {
   "display_name": "base",
   "language": "python",
   "name": "python3"
  },
  "language_info": {
   "codemirror_mode": {
    "name": "ipython",
    "version": 3
   },
   "file_extension": ".py",
   "mimetype": "text/x-python",
   "name": "python",
   "nbconvert_exporter": "python",
   "pygments_lexer": "ipython3",
   "version": "3.12.4"
  }
 },
 "nbformat": 4,
 "nbformat_minor": 5
}
